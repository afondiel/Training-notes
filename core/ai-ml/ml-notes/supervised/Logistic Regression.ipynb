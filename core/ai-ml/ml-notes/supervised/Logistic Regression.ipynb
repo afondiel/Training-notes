{
 "cells": [
  {
   "cell_type": "code",
   "execution_count": 35,
   "metadata": {},
   "outputs": [],
   "source": [
    "# multidimensional arrays and algebra tools\n",
    "import numpy as np\n",
    "# useful function to plot datas\n",
    "import matplotlib.pyplot as plt"
   ]
  },
  {
   "cell_type": "code",
   "execution_count": 142,
   "metadata": {},
   "outputs": [],
   "source": [
    "# FUNCTIONS\n",
    "# draw line : y = mx + b, where y=x2 array of points and x : array of horizontal points\n",
    "def draw(x1, x2):\n",
    "    ln = plt.plot(x1, x2,'-')\n",
    "# calculate the probability of the score instead of step function which is discrete (O or 1)\n",
    "def sigmoid(score):\n",
    "    return 1/(1 + np.exp(-score))\n",
    "\n",
    "# cross entropy \n",
    "def calculate_error(line_parameters, points, y):\n",
    "    # shape : return the number of row and colons     \n",
    "    m = points.shape[0]\n",
    "    p = sigmoid(points*line_parameters)\n",
    "    # multiplication order : dim(row)*dim(col)      \n",
    "    cross_entropy = -(1/m)*(np.log(p).T * y + np.log((1 - p)).T*(1 - y))\n",
    "    return cross_entropy\n",
    " \n",
    "def gradient_descent(line_parameters, points, y, alpha):\n",
    "    m = points.shape[0]\n",
    "    for i in range(5000):\n",
    "        p = sigmoid(points*line_parameters)\n",
    "        gradient = (points.T*(p-y))*(alpha/m)\n",
    "        # line_parameters : [[w1]\n",
    "        #                   [w2]\n",
    "        #                    [b]]  \n",
    "\n",
    "        line_parameters = line_parameters - gradient\n",
    "        # the minimum and maximum point where the model will start learning\n",
    "        w1 = line_parameters.item(0)\n",
    "        w2 = line_parameters.item(1)\n",
    "        b = line_parameters.item(2)\n",
    "        x1 = np.array([points[:, 0].min(), points[:, 0].max()])\n",
    "        x2 = - b / w2 + x1*(- w1 / w2)\n",
    "    draw(x1, x2)"
   ]
  },
  {
   "cell_type": "code",
   "execution_count": 143,
   "metadata": {},
   "outputs": [],
   "source": [
    "# GLOBAL PARAMETERS and SETTINGS\n",
    "\n",
    "# numbers of points\n",
    "n_pts = 100\n",
    "\n",
    "# line parameters\n",
    "# w1x1 + w2x2 + b = 0\n",
    "w1 = -0.2\n",
    "w2 = -0.35\n",
    "b = 3.5"
   ]
  },
  {
   "cell_type": "code",
   "execution_count": 144,
   "metadata": {},
   "outputs": [
    {
     "data": {
      "image/png": "[encoded data removed]",
      "text/plain": [
       "<Figure size 288x288 with 1 Axes>"
      ]
     },
     "metadata": {
      "needs_background": "light"
     },
     "output_type": "display_data"
    }
   ],
   "source": [
    "\n",
    "# to display the same random numbers every time we launch the program\n",
    "np.random.seed(0)\n",
    "# TOP the scoring line \n",
    "# horizontal random points on the top or above the scoring line based on normal law\n",
    "random_x1_values = np.random.normal(10, 2, n_pts)\n",
    "# vertical points on the top or above the scoring line based on normal law\n",
    "random_x2_values = np.random.normal(12, 2, n_pts)\n",
    "# array of combines x and y points\n",
    "top_region = np.array([random_x1_values, random_x2_values]).T\n",
    "\n",
    "# BOTTOM the scoring line \n",
    "# horizontal random points on the top or above the scoring line based on normal law\n",
    "# vertical points on the top or above the scoring line based on normal law\n",
    "# array of combines x and y points\n",
    "bottom_region = np.array([np.random.normal(5, 2, n_pts), np.random.normal(6, 2, n_pts)]).T\n",
    "\n",
    "# plt return a tuple fig and ax\n",
    "_, ax = plt.subplots(figsize=(4, 4))\n",
    "# display red points\n",
    "ax.scatter(top_region[:, 0], top_region[:, 1], color='r')\n",
    "# display blue points\n",
    "ax.scatter(bottom_region[:, 0], bottom_region[:, 1], color='b')\n",
    "plt.show()\n"
   ]
  },
  {
   "cell_type": "code",
   "execution_count": 148,
   "metadata": {},
   "outputs": [],
   "source": [
    "# Implementig SIGMOID function to reduce errors!!!\n",
    "\n",
    "# to display the same random numbers every time we launch the program\n",
    "np.random.seed(0)\n",
    "# bias\n",
    "bias = np.ones(n_pts)\n",
    "\n",
    "# TOP the scoring line \n",
    "# horizontal random points on the top or above the scoring line based on normal law\n",
    "random_x1_values = np.random.normal(10, 2, n_pts)\n",
    "# vertical points on the top or above the scoring line based on normal law\n",
    "random_x2_values = np.random.normal(12, 2, n_pts)\n",
    "# array of combines x and y points\n",
    "top_region = np.array([random_x1_values, random_x2_values, bias]).T\n",
    "\n",
    "# BOTTOM the scoring line \n",
    "# horizontal random points on the top or above the scoring line based on normal law\n",
    "# vertical points on the top or above the scoring line based on normal law\n",
    "# array of combines x and y points\n",
    "bottom_region = np.array([np.random.normal(5, 2, n_pts), np.random.normal(6, 2, n_pts), bias]).T\n",
    "\n",
    "# vstack : matrix concatanation vertically into a single one\n",
    "all_points = np.vstack((top_region, bottom_region))\n",
    "# print(all_points)\n",
    "\n",
    "#line_parameters = np.matrix([w1, w2, b]).T\n",
    "# print(line_parameters)\n",
    "# print(line_parameters)\n",
    "# w1x1 + w2x2 + b = 0\n",
    "# x2 = - b / w2 + x1*(- w1 / w2)\n",
    "# x1 = np.array([bottom_region[:, 0].min(), top_region[:, 0].max()])\n",
    "# x2 = - b / w2 + x1*(- w1 / w2)\n",
    "# print(x1, x2)\n",
    "\n",
    "# we the parameter to be found by the computer\n",
    "line_parameters = np.matrix(np.zeros(3)).T\n",
    "\n",
    "# negative combination : negative score\n",
    "# positive combination : positive score\n",
    "linear_combination = all_points*line_parameters\n",
    "#print(linear_combination)\n",
    "# the far the point is below the line : high probability \n",
    "# the far the point is above the line : low probability \n",
    "probablities = sigmoid(linear_combination)\n",
    "# print(probablities)\n",
    "# To create labels for top and bottom points \n",
    "# top points : zero(proba)\n",
    "# bottom points : ones(probas)\n",
    "y = np.array([np.zeros(n_pts), np.ones(n_pts)]).reshape(n_pts*2, 1)\n",
    "# print(y)"
   ]
  },
  {
   "cell_type": "code",
   "execution_count": 149,
   "metadata": {},
   "outputs": [
    {
     "data": {
      "image/png": "[encoded data removed]",
      "text/plain": [
       "<Figure size 288x288 with 1 Axes>"
      ]
     },
     "metadata": {
      "needs_background": "light"
     },
     "output_type": "display_data"
    }
   ],
   "source": [
    "# plt return a tuple fig and ax\n",
    "_, ax = plt.subplots(figsize=(4, 4))\n",
    "# display red points\n",
    "ax.scatter(top_region[:, 0], top_region[:, 1], color='r')\n",
    "# display blue points\n",
    "ax.scatter(bottom_region[:, 0], bottom_region[:, 1], color='b')\n",
    "gradient_descent(line_parameters, all_points, y, 0.06)\n",
    "# draw a line\n",
    "# draw(x1, x2)\n",
    "plt.show()"
   ]
  },
  {
   "cell_type": "code",
   "execution_count": 151,
   "metadata": {},
   "outputs": [
    {
     "name": "stdout",
     "output_type": "stream",
     "text": [
      "[[0.69314718]]\n"
     ]
    }
   ],
   "source": [
    "#error accuracy\n",
    "print((calculate_error(line_parameters, all_points, y)))"
   ]
  },
  {
   "cell_type": "code",
   "execution_count": null,
   "metadata": {},
   "outputs": [],
   "source": []
  },
  {
   "cell_type": "code",
   "execution_count": null,
   "metadata": {},
   "outputs": [],
   "source": []
  },
  {
   "cell_type": "code",
   "execution_count": null,
   "metadata": {},
   "outputs": [],
   "source": []
  }
 ],
 "metadata": {
  "kernelspec": {
   "display_name": "Python 3",
   "language": "python",
   "name": "python3"
  },
  "language_info": {
   "codemirror_mode": {
    "name": "ipython",
    "version": 3
   },
   "file_extension": ".py",
   "mimetype": "text/x-python",
   "name": "python",
   "nbconvert_exporter": "python",
   "pygments_lexer": "ipython3",
   "version": "3.7.6"
  }
 },
 "nbformat": 4,
 "nbformat_minor": 4
}
